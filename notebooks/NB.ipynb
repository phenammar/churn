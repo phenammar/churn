{
 "cells": [
  {
   "cell_type": "markdown",
   "id": "b1ea926f",
   "metadata": {},
   "source": [
    "* `Import libraries`"
   ]
  },
  {
   "cell_type": "code",
   "execution_count": 4,
   "id": "8a53ede4",
   "metadata": {},
   "outputs": [],
   "source": [
    "import pandas as pd\n",
    "import numpy as np\n",
    "import matplotlib.pyplot as plt\n",
    "import seaborn as sns\n",
    "import os\n",
    "import joblib\n",
    "\n",
    "from sklearn.pipeline import Pipeline\n",
    "from sklearn.compose import ColumnTransformer\n",
    "from sklearn.impute import SimpleImputer\n",
    "from sklearn.feature_selection import chi2, f_classif\n",
    "from sklearn.model_selection import train_test_split\n",
    "from sklearn.preprocessing import StandardScaler , OneHotEncoder , OrdinalEncoder\n",
    "from sklearn.linear_model import LogisticRegression\n",
    "from sklearn.metrics import f1_score , confusion_matrix , classification_report\n",
    "from sklearn.ensemble import RandomForestClassifier\n",
    "import xgboost as xgb\n"
   ]
  },
  {
   "cell_type": "markdown",
   "id": "5dbf0cf1",
   "metadata": {},
   "source": [
    "* `Read dataset`"
   ]
  },
  {
   "cell_type": "code",
   "execution_count": 5,
   "id": "8a19378e",
   "metadata": {},
   "outputs": [
    {
     "data": {
      "text/html": [
       "<div>\n",
       "<style scoped>\n",
       "    .dataframe tbody tr th:only-of-type {\n",
       "        vertical-align: middle;\n",
       "    }\n",
       "\n",
       "    .dataframe tbody tr th {\n",
       "        vertical-align: top;\n",
       "    }\n",
       "\n",
       "    .dataframe thead th {\n",
       "        text-align: right;\n",
       "    }\n",
       "</style>\n",
       "<table border=\"1\" class=\"dataframe\">\n",
       "  <thead>\n",
       "    <tr style=\"text-align: right;\">\n",
       "      <th></th>\n",
       "      <th>RowNumber</th>\n",
       "      <th>CustomerId</th>\n",
       "      <th>Surname</th>\n",
       "      <th>CreditScore</th>\n",
       "      <th>Geography</th>\n",
       "      <th>Gender</th>\n",
       "      <th>Age</th>\n",
       "      <th>Tenure</th>\n",
       "      <th>Balance</th>\n",
       "      <th>NumOfProducts</th>\n",
       "      <th>HasCrCard</th>\n",
       "      <th>IsActiveMember</th>\n",
       "      <th>EstimatedSalary</th>\n",
       "      <th>Exited</th>\n",
       "    </tr>\n",
       "  </thead>\n",
       "  <tbody>\n",
       "    <tr>\n",
       "      <th>0</th>\n",
       "      <td>1</td>\n",
       "      <td>15634602</td>\n",
       "      <td>Hargrave</td>\n",
       "      <td>619</td>\n",
       "      <td>France</td>\n",
       "      <td>Female</td>\n",
       "      <td>42</td>\n",
       "      <td>2</td>\n",
       "      <td>0.00</td>\n",
       "      <td>1</td>\n",
       "      <td>1</td>\n",
       "      <td>1</td>\n",
       "      <td>101348.88</td>\n",
       "      <td>1</td>\n",
       "    </tr>\n",
       "    <tr>\n",
       "      <th>1</th>\n",
       "      <td>2</td>\n",
       "      <td>15647311</td>\n",
       "      <td>Hill</td>\n",
       "      <td>608</td>\n",
       "      <td>Spain</td>\n",
       "      <td>Female</td>\n",
       "      <td>41</td>\n",
       "      <td>1</td>\n",
       "      <td>83807.86</td>\n",
       "      <td>1</td>\n",
       "      <td>0</td>\n",
       "      <td>1</td>\n",
       "      <td>112542.58</td>\n",
       "      <td>0</td>\n",
       "    </tr>\n",
       "    <tr>\n",
       "      <th>2</th>\n",
       "      <td>3</td>\n",
       "      <td>15619304</td>\n",
       "      <td>Onio</td>\n",
       "      <td>502</td>\n",
       "      <td>France</td>\n",
       "      <td>Female</td>\n",
       "      <td>42</td>\n",
       "      <td>8</td>\n",
       "      <td>159660.80</td>\n",
       "      <td>3</td>\n",
       "      <td>1</td>\n",
       "      <td>0</td>\n",
       "      <td>113931.57</td>\n",
       "      <td>1</td>\n",
       "    </tr>\n",
       "    <tr>\n",
       "      <th>3</th>\n",
       "      <td>4</td>\n",
       "      <td>15701354</td>\n",
       "      <td>Boni</td>\n",
       "      <td>699</td>\n",
       "      <td>France</td>\n",
       "      <td>Female</td>\n",
       "      <td>39</td>\n",
       "      <td>1</td>\n",
       "      <td>0.00</td>\n",
       "      <td>2</td>\n",
       "      <td>0</td>\n",
       "      <td>0</td>\n",
       "      <td>93826.63</td>\n",
       "      <td>0</td>\n",
       "    </tr>\n",
       "    <tr>\n",
       "      <th>4</th>\n",
       "      <td>5</td>\n",
       "      <td>15737888</td>\n",
       "      <td>Mitchell</td>\n",
       "      <td>850</td>\n",
       "      <td>Spain</td>\n",
       "      <td>Female</td>\n",
       "      <td>43</td>\n",
       "      <td>2</td>\n",
       "      <td>125510.82</td>\n",
       "      <td>1</td>\n",
       "      <td>1</td>\n",
       "      <td>1</td>\n",
       "      <td>79084.10</td>\n",
       "      <td>0</td>\n",
       "    </tr>\n",
       "  </tbody>\n",
       "</table>\n",
       "</div>"
      ],
      "text/plain": [
       "   RowNumber  CustomerId   Surname  CreditScore Geography  Gender  Age  \\\n",
       "0          1    15634602  Hargrave          619    France  Female   42   \n",
       "1          2    15647311      Hill          608     Spain  Female   41   \n",
       "2          3    15619304      Onio          502    France  Female   42   \n",
       "3          4    15701354      Boni          699    France  Female   39   \n",
       "4          5    15737888  Mitchell          850     Spain  Female   43   \n",
       "\n",
       "   Tenure    Balance  NumOfProducts  HasCrCard  IsActiveMember  \\\n",
       "0       2       0.00              1          1               1   \n",
       "1       1   83807.86              1          0               1   \n",
       "2       8  159660.80              3          1               0   \n",
       "3       1       0.00              2          0               0   \n",
       "4       2  125510.82              1          1               1   \n",
       "\n",
       "   EstimatedSalary  Exited  \n",
       "0        101348.88       1  \n",
       "1        112542.58       0  \n",
       "2        113931.57       1  \n",
       "3         93826.63       0  \n",
       "4         79084.10       0  "
      ]
     },
     "execution_count": 5,
     "metadata": {},
     "output_type": "execute_result"
    }
   ],
   "source": [
    "# Load the data\n",
    "DATA_PATH = os.path.join(os.getcwd(), '..' , 'datasets' , 'Churn_Modelling.csv')\n",
    "df = pd.read_csv(DATA_PATH)\n",
    "df.head()"
   ]
  },
  {
   "cell_type": "code",
   "execution_count": 30,
   "id": "fdadfa7f",
   "metadata": {},
   "outputs": [
    {
     "ename": "KeyError",
     "evalue": "\"['RowNumber', 'CustomerId', 'Surname'] not found in axis\"",
     "output_type": "error",
     "traceback": [
      "\u001b[31m---------------------------------------------------------------------------\u001b[39m",
      "\u001b[31mKeyError\u001b[39m                                  Traceback (most recent call last)",
      "\u001b[36mCell\u001b[39m\u001b[36m \u001b[39m\u001b[32mIn[30]\u001b[39m\u001b[32m, line 2\u001b[39m\n\u001b[32m      1\u001b[39m \u001b[38;5;66;03m# Remove unnecessary columns\u001b[39;00m\n\u001b[32m----> \u001b[39m\u001b[32m2\u001b[39m df.drop(columns=[\u001b[33m'\u001b[39m\u001b[33mRowNumber\u001b[39m\u001b[33m'\u001b[39m, \u001b[33m'\u001b[39m\u001b[33mCustomerId\u001b[39m\u001b[33m'\u001b[39m, \u001b[33m'\u001b[39m\u001b[33mSurname\u001b[39m\u001b[33m'\u001b[39m], axis=\u001b[32m1\u001b[39m, inplace=\u001b[38;5;28;01mTrue\u001b[39;00m)\n",
      "\u001b[36mFile \u001b[39m\u001b[32md:\\miniconda\\envs\\fatal\\Lib\\site-packages\\pandas\\core\\frame.py:5588\u001b[39m, in \u001b[36mDataFrame.drop\u001b[39m\u001b[34m(self, labels, axis, index, columns, level, inplace, errors)\u001b[39m\n\u001b[32m   5440\u001b[39m \u001b[38;5;28;01mdef\u001b[39;00m\u001b[38;5;250m \u001b[39m\u001b[34mdrop\u001b[39m(\n\u001b[32m   5441\u001b[39m     \u001b[38;5;28mself\u001b[39m,\n\u001b[32m   5442\u001b[39m     labels: IndexLabel | \u001b[38;5;28;01mNone\u001b[39;00m = \u001b[38;5;28;01mNone\u001b[39;00m,\n\u001b[32m   (...)\u001b[39m\u001b[32m   5449\u001b[39m     errors: IgnoreRaise = \u001b[33m\"\u001b[39m\u001b[33mraise\u001b[39m\u001b[33m\"\u001b[39m,\n\u001b[32m   5450\u001b[39m ) -> DataFrame | \u001b[38;5;28;01mNone\u001b[39;00m:\n\u001b[32m   5451\u001b[39m \u001b[38;5;250m    \u001b[39m\u001b[33;03m\"\"\"\u001b[39;00m\n\u001b[32m   5452\u001b[39m \u001b[33;03m    Drop specified labels from rows or columns.\u001b[39;00m\n\u001b[32m   5453\u001b[39m \n\u001b[32m   (...)\u001b[39m\u001b[32m   5586\u001b[39m \u001b[33;03m            weight  1.0     0.8\u001b[39;00m\n\u001b[32m   5587\u001b[39m \u001b[33;03m    \"\"\"\u001b[39;00m\n\u001b[32m-> \u001b[39m\u001b[32m5588\u001b[39m     \u001b[38;5;28;01mreturn\u001b[39;00m \u001b[38;5;28msuper\u001b[39m().drop(\n\u001b[32m   5589\u001b[39m         labels=labels,\n\u001b[32m   5590\u001b[39m         axis=axis,\n\u001b[32m   5591\u001b[39m         index=index,\n\u001b[32m   5592\u001b[39m         columns=columns,\n\u001b[32m   5593\u001b[39m         level=level,\n\u001b[32m   5594\u001b[39m         inplace=inplace,\n\u001b[32m   5595\u001b[39m         errors=errors,\n\u001b[32m   5596\u001b[39m     )\n",
      "\u001b[36mFile \u001b[39m\u001b[32md:\\miniconda\\envs\\fatal\\Lib\\site-packages\\pandas\\core\\generic.py:4807\u001b[39m, in \u001b[36mNDFrame.drop\u001b[39m\u001b[34m(self, labels, axis, index, columns, level, inplace, errors)\u001b[39m\n\u001b[32m   4805\u001b[39m \u001b[38;5;28;01mfor\u001b[39;00m axis, labels \u001b[38;5;129;01min\u001b[39;00m axes.items():\n\u001b[32m   4806\u001b[39m     \u001b[38;5;28;01mif\u001b[39;00m labels \u001b[38;5;129;01mis\u001b[39;00m \u001b[38;5;129;01mnot\u001b[39;00m \u001b[38;5;28;01mNone\u001b[39;00m:\n\u001b[32m-> \u001b[39m\u001b[32m4807\u001b[39m         obj = obj._drop_axis(labels, axis, level=level, errors=errors)\n\u001b[32m   4809\u001b[39m \u001b[38;5;28;01mif\u001b[39;00m inplace:\n\u001b[32m   4810\u001b[39m     \u001b[38;5;28mself\u001b[39m._update_inplace(obj)\n",
      "\u001b[36mFile \u001b[39m\u001b[32md:\\miniconda\\envs\\fatal\\Lib\\site-packages\\pandas\\core\\generic.py:4849\u001b[39m, in \u001b[36mNDFrame._drop_axis\u001b[39m\u001b[34m(self, labels, axis, level, errors, only_slice)\u001b[39m\n\u001b[32m   4847\u001b[39m         new_axis = axis.drop(labels, level=level, errors=errors)\n\u001b[32m   4848\u001b[39m     \u001b[38;5;28;01melse\u001b[39;00m:\n\u001b[32m-> \u001b[39m\u001b[32m4849\u001b[39m         new_axis = axis.drop(labels, errors=errors)\n\u001b[32m   4850\u001b[39m     indexer = axis.get_indexer(new_axis)\n\u001b[32m   4852\u001b[39m \u001b[38;5;66;03m# Case for non-unique axis\u001b[39;00m\n\u001b[32m   4853\u001b[39m \u001b[38;5;28;01melse\u001b[39;00m:\n",
      "\u001b[36mFile \u001b[39m\u001b[32md:\\miniconda\\envs\\fatal\\Lib\\site-packages\\pandas\\core\\indexes\\base.py:7136\u001b[39m, in \u001b[36mIndex.drop\u001b[39m\u001b[34m(self, labels, errors)\u001b[39m\n\u001b[32m   7134\u001b[39m \u001b[38;5;28;01mif\u001b[39;00m mask.any():\n\u001b[32m   7135\u001b[39m     \u001b[38;5;28;01mif\u001b[39;00m errors != \u001b[33m\"\u001b[39m\u001b[33mignore\u001b[39m\u001b[33m\"\u001b[39m:\n\u001b[32m-> \u001b[39m\u001b[32m7136\u001b[39m         \u001b[38;5;28;01mraise\u001b[39;00m \u001b[38;5;167;01mKeyError\u001b[39;00m(\u001b[33mf\u001b[39m\u001b[33m\"\u001b[39m\u001b[38;5;132;01m{\u001b[39;00mlabels[mask].tolist()\u001b[38;5;132;01m}\u001b[39;00m\u001b[33m not found in axis\u001b[39m\u001b[33m\"\u001b[39m)\n\u001b[32m   7137\u001b[39m     indexer = indexer[~mask]\n\u001b[32m   7138\u001b[39m \u001b[38;5;28;01mreturn\u001b[39;00m \u001b[38;5;28mself\u001b[39m.delete(indexer)\n",
      "\u001b[31mKeyError\u001b[39m: \"['RowNumber', 'CustomerId', 'Surname'] not found in axis\""
     ]
    }
   ],
   "source": [
    "# Remove unnecessary columns\n",
    "df.drop(columns=['RowNumber', 'CustomerId', 'Surname'], axis=1, inplace=True)"
   ]
  },
  {
   "cell_type": "code",
   "execution_count": null,
   "id": "40010b42",
   "metadata": {},
   "outputs": [],
   "source": []
  },
  {
   "cell_type": "code",
   "execution_count": 7,
   "id": "c6d7551f",
   "metadata": {},
   "outputs": [
    {
     "name": "stdout",
     "output_type": "stream",
     "text": [
      "<class 'pandas.core.frame.DataFrame'>\n",
      "RangeIndex: 10000 entries, 0 to 9999\n",
      "Data columns (total 11 columns):\n",
      " #   Column           Non-Null Count  Dtype  \n",
      "---  ------           --------------  -----  \n",
      " 0   CreditScore      10000 non-null  int64  \n",
      " 1   Geography        10000 non-null  object \n",
      " 2   Gender           10000 non-null  object \n",
      " 3   Age              10000 non-null  int64  \n",
      " 4   Tenure           10000 non-null  int64  \n",
      " 5   Balance          10000 non-null  float64\n",
      " 6   NumOfProducts    10000 non-null  int64  \n",
      " 7   HasCrCard        10000 non-null  int64  \n",
      " 8   IsActiveMember   10000 non-null  int64  \n",
      " 9   EstimatedSalary  10000 non-null  float64\n",
      " 10  Exited           10000 non-null  int64  \n",
      "dtypes: float64(2), int64(7), object(2)\n",
      "memory usage: 859.5+ KB\n"
     ]
    }
   ],
   "source": [
    "df.info()"
   ]
  },
  {
   "cell_type": "code",
   "execution_count": 8,
   "id": "4d1c814e",
   "metadata": {},
   "outputs": [
    {
     "data": {
      "text/html": [
       "<div>\n",
       "<style scoped>\n",
       "    .dataframe tbody tr th:only-of-type {\n",
       "        vertical-align: middle;\n",
       "    }\n",
       "\n",
       "    .dataframe tbody tr th {\n",
       "        vertical-align: top;\n",
       "    }\n",
       "\n",
       "    .dataframe thead th {\n",
       "        text-align: right;\n",
       "    }\n",
       "</style>\n",
       "<table border=\"1\" class=\"dataframe\">\n",
       "  <thead>\n",
       "    <tr style=\"text-align: right;\">\n",
       "      <th></th>\n",
       "      <th>CreditScore</th>\n",
       "      <th>Age</th>\n",
       "      <th>Tenure</th>\n",
       "      <th>Balance</th>\n",
       "      <th>NumOfProducts</th>\n",
       "      <th>HasCrCard</th>\n",
       "      <th>IsActiveMember</th>\n",
       "      <th>EstimatedSalary</th>\n",
       "      <th>Exited</th>\n",
       "    </tr>\n",
       "  </thead>\n",
       "  <tbody>\n",
       "    <tr>\n",
       "      <th>count</th>\n",
       "      <td>10000.000000</td>\n",
       "      <td>10000.000000</td>\n",
       "      <td>10000.000000</td>\n",
       "      <td>10000.000000</td>\n",
       "      <td>10000.000000</td>\n",
       "      <td>10000.00000</td>\n",
       "      <td>10000.000000</td>\n",
       "      <td>10000.000000</td>\n",
       "      <td>10000.000000</td>\n",
       "    </tr>\n",
       "    <tr>\n",
       "      <th>mean</th>\n",
       "      <td>650.528800</td>\n",
       "      <td>38.921800</td>\n",
       "      <td>5.012800</td>\n",
       "      <td>76485.889288</td>\n",
       "      <td>1.530200</td>\n",
       "      <td>0.70550</td>\n",
       "      <td>0.515100</td>\n",
       "      <td>100090.239881</td>\n",
       "      <td>0.203700</td>\n",
       "    </tr>\n",
       "    <tr>\n",
       "      <th>std</th>\n",
       "      <td>96.653299</td>\n",
       "      <td>10.487806</td>\n",
       "      <td>2.892174</td>\n",
       "      <td>62397.405202</td>\n",
       "      <td>0.581654</td>\n",
       "      <td>0.45584</td>\n",
       "      <td>0.499797</td>\n",
       "      <td>57510.492818</td>\n",
       "      <td>0.402769</td>\n",
       "    </tr>\n",
       "    <tr>\n",
       "      <th>min</th>\n",
       "      <td>350.000000</td>\n",
       "      <td>18.000000</td>\n",
       "      <td>0.000000</td>\n",
       "      <td>0.000000</td>\n",
       "      <td>1.000000</td>\n",
       "      <td>0.00000</td>\n",
       "      <td>0.000000</td>\n",
       "      <td>11.580000</td>\n",
       "      <td>0.000000</td>\n",
       "    </tr>\n",
       "    <tr>\n",
       "      <th>25%</th>\n",
       "      <td>584.000000</td>\n",
       "      <td>32.000000</td>\n",
       "      <td>3.000000</td>\n",
       "      <td>0.000000</td>\n",
       "      <td>1.000000</td>\n",
       "      <td>0.00000</td>\n",
       "      <td>0.000000</td>\n",
       "      <td>51002.110000</td>\n",
       "      <td>0.000000</td>\n",
       "    </tr>\n",
       "    <tr>\n",
       "      <th>50%</th>\n",
       "      <td>652.000000</td>\n",
       "      <td>37.000000</td>\n",
       "      <td>5.000000</td>\n",
       "      <td>97198.540000</td>\n",
       "      <td>1.000000</td>\n",
       "      <td>1.00000</td>\n",
       "      <td>1.000000</td>\n",
       "      <td>100193.915000</td>\n",
       "      <td>0.000000</td>\n",
       "    </tr>\n",
       "    <tr>\n",
       "      <th>75%</th>\n",
       "      <td>718.000000</td>\n",
       "      <td>44.000000</td>\n",
       "      <td>7.000000</td>\n",
       "      <td>127644.240000</td>\n",
       "      <td>2.000000</td>\n",
       "      <td>1.00000</td>\n",
       "      <td>1.000000</td>\n",
       "      <td>149388.247500</td>\n",
       "      <td>0.000000</td>\n",
       "    </tr>\n",
       "    <tr>\n",
       "      <th>max</th>\n",
       "      <td>850.000000</td>\n",
       "      <td>92.000000</td>\n",
       "      <td>10.000000</td>\n",
       "      <td>250898.090000</td>\n",
       "      <td>4.000000</td>\n",
       "      <td>1.00000</td>\n",
       "      <td>1.000000</td>\n",
       "      <td>199992.480000</td>\n",
       "      <td>1.000000</td>\n",
       "    </tr>\n",
       "  </tbody>\n",
       "</table>\n",
       "</div>"
      ],
      "text/plain": [
       "        CreditScore           Age        Tenure        Balance  NumOfProducts  \\\n",
       "count  10000.000000  10000.000000  10000.000000   10000.000000   10000.000000   \n",
       "mean     650.528800     38.921800      5.012800   76485.889288       1.530200   \n",
       "std       96.653299     10.487806      2.892174   62397.405202       0.581654   \n",
       "min      350.000000     18.000000      0.000000       0.000000       1.000000   \n",
       "25%      584.000000     32.000000      3.000000       0.000000       1.000000   \n",
       "50%      652.000000     37.000000      5.000000   97198.540000       1.000000   \n",
       "75%      718.000000     44.000000      7.000000  127644.240000       2.000000   \n",
       "max      850.000000     92.000000     10.000000  250898.090000       4.000000   \n",
       "\n",
       "         HasCrCard  IsActiveMember  EstimatedSalary        Exited  \n",
       "count  10000.00000    10000.000000     10000.000000  10000.000000  \n",
       "mean       0.70550        0.515100    100090.239881      0.203700  \n",
       "std        0.45584        0.499797     57510.492818      0.402769  \n",
       "min        0.00000        0.000000        11.580000      0.000000  \n",
       "25%        0.00000        0.000000     51002.110000      0.000000  \n",
       "50%        1.00000        1.000000    100193.915000      0.000000  \n",
       "75%        1.00000        1.000000    149388.247500      0.000000  \n",
       "max        1.00000        1.000000    199992.480000      1.000000  "
      ]
     },
     "execution_count": 8,
     "metadata": {},
     "output_type": "execute_result"
    }
   ],
   "source": [
    "df.describe()"
   ]
  },
  {
   "cell_type": "markdown",
   "id": "fb86db86",
   "metadata": {},
   "source": [
    "* `EDA`"
   ]
  },
  {
   "cell_type": "code",
   "execution_count": 9,
   "id": "d1e6043f",
   "metadata": {},
   "outputs": [
    {
     "data": {
      "text/plain": [
       "CreditScore        0\n",
       "Geography          0\n",
       "Gender             0\n",
       "Age                0\n",
       "Tenure             0\n",
       "Balance            0\n",
       "NumOfProducts      0\n",
       "HasCrCard          0\n",
       "IsActiveMember     0\n",
       "EstimatedSalary    0\n",
       "Exited             0\n",
       "dtype: int64"
      ]
     },
     "execution_count": 9,
     "metadata": {},
     "output_type": "execute_result"
    }
   ],
   "source": [
    "# check for NaN values\n",
    "df.isna().sum()"
   ]
  },
  {
   "cell_type": "code",
   "execution_count": 10,
   "id": "184de75f",
   "metadata": {},
   "outputs": [
    {
     "data": {
      "text/plain": [
       "array(['France', 'Spain', 'Germany'], dtype=object)"
      ]
     },
     "execution_count": 10,
     "metadata": {},
     "output_type": "execute_result"
    }
   ],
   "source": [
    "# Check the areas we are dealing with\n",
    "df['Geography'].unique()"
   ]
  },
  {
   "cell_type": "code",
   "execution_count": 11,
   "id": "3d33cdc4",
   "metadata": {},
   "outputs": [
    {
     "data": {
      "text/plain": [
       "Exited\n",
       "0    7963\n",
       "1    2037\n",
       "Name: count, dtype: int64"
      ]
     },
     "execution_count": 11,
     "metadata": {},
     "output_type": "execute_result"
    }
   ],
   "source": [
    "#unbalanced dataset\n",
    "df['Exited'].value_counts()"
   ]
  },
  {
   "cell_type": "code",
   "execution_count": 12,
   "id": "62da8b2f",
   "metadata": {},
   "outputs": [
    {
     "data": {
      "text/plain": [
       "array([ 2,  1,  8,  7,  4,  6,  3, 10,  5,  9,  0])"
      ]
     },
     "execution_count": 12,
     "metadata": {},
     "output_type": "execute_result"
    }
   ],
   "source": [
    "df['Tenure'].unique()"
   ]
  },
  {
   "cell_type": "markdown",
   "id": "0f8976ba",
   "metadata": {},
   "source": [
    "* `Data visualization & handling outliers `"
   ]
  },
  {
   "cell_type": "code",
   "execution_count": null,
   "id": "2a8efadf",
   "metadata": {},
   "outputs": [
    {
     "data": {
      "image/png": "[encoded data removed]",
      "text/plain": [
       "<Figure size 2000x1000 with 9 Axes>"
      ]
     },
     "metadata": {},
     "output_type": "display_data"
    }
   ],
   "source": [
    "# Visualize the distribution of numerical features\n",
    "df.hist(bins=40, figsize=(20,10))\n",
    "plt.show()"
   ]
  },
  {
   "cell_type": "code",
   "execution_count": null,
   "id": "35d6ac15",
   "metadata": {},
   "outputs": [
    {
     "data": {
      "image/png": "[encoded data removed]",
      "text/plain": [
       "<Figure size 640x480 with 1 Axes>"
      ]
     },
     "metadata": {},
     "output_type": "display_data"
    }
   ],
   "source": [
    "# unbalanced dataset\n",
    "sns.countplot(x='Exited', data=df)\n",
    "plt.show()"
   ]
  },
  {
   "cell_type": "code",
   "execution_count": null,
   "id": "e9e989fc",
   "metadata": {},
   "outputs": [
    {
     "data": {
      "image/png": "[encoded data removed]",
      "text/plain": [
       "<Figure size 640x480 with 1 Axes>"
      ]
     },
     "metadata": {},
     "output_type": "display_data"
    }
   ],
   "source": [
    "sns.countplot(data=df, x='Geography', hue='Exited')\n",
    "plt.show()\n",
    "\n",
    "# it seems that germany has the highest churn rate"
   ]
  },
  {
   "cell_type": "code",
   "execution_count": null,
   "id": "351e816c",
   "metadata": {},
   "outputs": [
    {
     "data": {
      "image/png": "[encoded data removed]",
      "text/plain": [
       "<Figure size 640x480 with 1 Axes>"
      ]
     },
     "metadata": {},
     "output_type": "display_data"
    }
   ],
   "source": [
    "sns.countplot(data=df, x='Gender', hue='Exited')\n",
    "plt.show()\n",
    "\n",
    "# Females have a slightly higher churn rate"
   ]
  },
  {
   "cell_type": "code",
   "execution_count": null,
   "id": "9917d38b",
   "metadata": {},
   "outputs": [
    {
     "data": {
      "text/plain": [
       "Gender\n",
       "Female    100601.541382\n",
       "Male       99664.576931\n",
       "Name: EstimatedSalary, dtype: float64"
      ]
     },
     "execution_count": 25,
     "metadata": {},
     "output_type": "execute_result"
    }
   ],
   "source": [
    "# Females have a slightly higher EstimatedSalary\n",
    "df[['Gender','EstimatedSalary']].groupby('Gender')['EstimatedSalary'].mean()"
   ]
  },
  {
   "cell_type": "code",
   "execution_count": 27,
   "id": "644473ac",
   "metadata": {},
   "outputs": [
    {
     "data": {
      "image/png": "[encoded data removed]",
      "text/plain": [
       "<Figure size 640x480 with 1 Axes>"
      ]
     },
     "metadata": {},
     "output_type": "display_data"
    }
   ],
   "source": [
    "sns.barplot(data=df, x='Gender' , y='EstimatedSalary',estimator='mean')\n",
    "plt.show()"
   ]
  },
  {
   "cell_type": "code",
   "execution_count": null,
   "id": "98ff5511",
   "metadata": {},
   "outputs": [
    {
     "data": {
      "image/png": "[encoded data removed]",
      "text/plain": [
       "<Figure size 640x480 with 1 Axes>"
      ]
     },
     "metadata": {},
     "output_type": "display_data"
    }
   ],
   "source": [
    "# There is no clear relationship between Tenure and Churn\n",
    "sns.countplot(data=df, x='Tenure', hue='Exited')\n",
    "plt.show()"
   ]
  },
  {
   "cell_type": "markdown",
   "id": "1c6d444d",
   "metadata": {},
   "source": [
    "* `Split to test & train`\n"
   ]
  },
  {
   "cell_type": "code",
   "execution_count": 38,
   "id": "c6e80e34",
   "metadata": {},
   "outputs": [
    {
     "name": "stdout",
     "output_type": "stream",
     "text": [
      "Train shape: (8000, 10) , (8000,)\n",
      "Test shape: (2000, 10) , (2000,)\n"
     ]
    }
   ],
   "source": [
    "# feature and target split\n",
    "X = df.drop(columns=['Exited'], axis=1)\n",
    "y = df['Exited']\n",
    "\n",
    "# Split to test & train\n",
    "x_train  ,x_test, y_train,y_test = train_test_split(X, y, test_size=0.2, random_state=45,shuffle =True, stratify=y)\n",
    "print(f\"Train shape: {x_train.shape} , {y_train.shape}\")\n",
    "print(f\"Test shape: {x_test.shape} , {y_test.shape}\")\n"
   ]
  },
  {
   "cell_type": "markdown",
   "id": "7fc2d443",
   "metadata": {},
   "source": [
    "* `preprocessing`"
   ]
  },
  {
   "cell_type": "code",
   "execution_count": 43,
   "id": "6fda688c",
   "metadata": {},
   "outputs": [],
   "source": [
    "# slice data (numerical, categorical, ready)\n",
    "num_data = ['CreditScore', 'Age', 'Balance', 'EstimatedSalary']\n",
    "categ_data = ['Geography','Gender']\n",
    "ready_data = list(set(x_train.columns.tolist()) -set(num_data + categ_data))\n"
   ]
  },
  {
   "cell_type": "code",
   "execution_count": null,
   "id": "8aa9e7e6",
   "metadata": {},
   "outputs": [
    {
     "data": {
      "text/plain": [
       "array([9.93415956e-002, 4.53937410e-151, 4.93061528e-027, 3.77885631e-001])"
      ]
     },
     "execution_count": 44,
     "metadata": {},
     "output_type": "execute_result"
    }
   ],
   "source": [
    "# testing feature importance (numerical features) -> ANOVA\n",
    "_, pval = f_classif(X=x_train[num_data], y=y_train)\n",
    "pval\n",
    "\n",
    "# p-values for numerical features are all below 0.05, so we will keep them all"
   ]
  },
  {
   "cell_type": "code",
   "execution_count": null,
   "id": "cbeca368",
   "metadata": {},
   "outputs": [
    {
     "data": {
      "text/plain": [
       "array([1.19256538e-03, 2.10648846e-11])"
      ]
     },
     "execution_count": 46,
     "metadata": {},
     "output_type": "execute_result"
    }
   ],
   "source": [
    "# testing feature importance (categorical features) -> Chi-squared\n",
    "_, pval= chi2(X=OrdinalEncoder().fit_transform(x_train[categ_data]), y=y_train)\n",
    "pval\n",
    "\n",
    "# p-values for categorical features are all below 0.05, so we will keep them all"
   ]
  },
  {
   "cell_type": "code",
   "execution_count": null,
   "id": "5ef6b21d",
   "metadata": {},
   "outputs": [
    {
     "data": {
      "text/plain": [
       "array([9.69193084e-01, 6.52077590e-02, 2.05442478e-21, 1.37949728e-01])"
      ]
     },
     "execution_count": 48,
     "metadata": {},
     "output_type": "execute_result"
    }
   ],
   "source": [
    "# testing feature importance (ready features) -> chi-squared\n",
    "_, pval= chi2(X=x_train[ready_data], y=y_train)\n",
    "pval\n",
    "\n",
    "# p-values for ready features are all below 0.05, so we will keep them all"
   ]
  },
  {
   "cell_type": "code",
   "execution_count": 78,
   "id": "c87eb1e3",
   "metadata": {},
   "outputs": [],
   "source": [
    "# pipeline\n",
    "# Numerical : impute using median and standardscaler\n",
    "# Categorical : impute using most_frequent (mode) and onehotencoder\n",
    "# ready : impute using most_frequent (mode)\n",
    "\n",
    "# Numerical pipeline\n",
    "num_pipeline = Pipeline([\n",
    "    ('imputer', SimpleImputer(strategy='median')),\n",
    "    ('scaler', StandardScaler())\n",
    "])\n",
    "\n",
    "# Categorical pipeline\n",
    "categ_pipeline = Pipeline([\n",
    "    ('imputer', SimpleImputer(strategy='most_frequent')),\n",
    "    ('OHE', OneHotEncoder(sparse_output=False, drop='first'))\n",
    "])\n",
    "\n",
    "# Ready data pipeline\n",
    "ready_pipeline = Pipeline([\n",
    "    ('imputer', SimpleImputer(strategy='most_frequent'))\n",
    "])\n",
    "\n",
    "# Full pipeline\n",
    "full_pipeline = ColumnTransformer(transformers=[\n",
    "    ('numerical', num_pipeline, num_data),\n",
    "    ('categorical', categ_pipeline, categ_data),\n",
    "    ('ready', ready_pipeline, ready_data)\n",
    "])\n",
    "\n",
    "\n",
    "# Transform the data\n",
    "x_train_final = full_pipeline.fit_transform(x_train)\n",
    "x_test_final = full_pipeline.transform(x_test)"
   ]
  },
  {
   "cell_type": "code",
   "execution_count": null,
   "id": "2a724905",
   "metadata": {},
   "outputs": [
    {
     "name": "stdout",
     "output_type": "stream",
     "text": [
      "Train shape after preprocessing: (8000, 11)\n",
      "Test shape after preprocessing: (2000, 11)\n"
     ]
    }
   ],
   "source": [
    "print(f\"Train shape after preprocessing: {x_train_final.shape}\")\n",
    "print(f\"Test shape after preprocessing: {x_test_final.shape}\")\n"
   ]
  },
  {
   "cell_type": "markdown",
   "id": "4e6bd64a",
   "metadata": {},
   "source": [
    "* `Deal with imbalanced data`"
   ]
  },
  {
   "cell_type": "code",
   "execution_count": 86,
   "id": "f98ee445",
   "metadata": {},
   "outputs": [
    {
     "data": {
      "text/plain": [
       "{0: np.float64(0.20375), 1: np.float64(0.79625)}"
      ]
     },
     "execution_count": 86,
     "metadata": {},
     "output_type": "execute_result"
    }
   ],
   "source": [
    "# 1. prepare class_weights for solving imbalance dataset\n",
    "vals_count = 1 - (np.bincount(y_train) / len(y_train))\n",
    "vals_count = vals_count / sum(vals_count)\n",
    "\n",
    "dict_weights = {}\n",
    "for i in range(2):  # 2 classes (0, 1)\n",
    "    dict_weights[i] = vals_count[i]\n",
    "\n",
    "# to model\n",
    "dict_weights"
   ]
  },
  {
   "cell_type": "code",
   "execution_count": 80,
   "id": "85a45503",
   "metadata": {},
   "outputs": [],
   "source": [
    "# 2. oversampling using SMOTE\n",
    "from imblearn.over_sampling import SMOTE\n",
    "oversample = SMOTE(k_neighbors=5 ,random_state=45 ,sampling_strategy=0.7)\n",
    "x_train_resampled ,y_train_resampled = oversample.fit_resample(x_train_final, y_train)"
   ]
  },
  {
   "cell_type": "code",
   "execution_count": 81,
   "id": "6f4a3656",
   "metadata": {},
   "outputs": [],
   "source": [
    "# create folder for models\n",
    "MODEL_FOLDER_PATH = os.path.join(os.getcwd(), '..' , 'models')\n",
    "os.makedirs(MODEL_FOLDER_PATH, exist_ok=True)"
   ]
  },
  {
   "cell_type": "code",
   "execution_count": 82,
   "id": "7455eaf2",
   "metadata": {},
   "outputs": [
    {
     "data": {
      "text/plain": [
       "['d:\\\\AI\\\\projects\\\\ML\\\\churn\\\\notebooks\\\\..\\\\models\\\\preprocessing_pipeline.pkl']"
      ]
     },
     "execution_count": 82,
     "metadata": {},
     "output_type": "execute_result"
    }
   ],
   "source": [
    "# dump the pipeline\n",
    "joblib.dump(full_pipeline, os.path.join(MODEL_FOLDER_PATH, 'preprocessing_pipeline.pkl'))"
   ]
  },
  {
   "cell_type": "markdown",
   "id": "db46dff9",
   "metadata": {},
   "source": [
    "* `Building Models`\n",
    "> Let's consider the evaluation metric to be f1_score"
   ]
  },
  {
   "cell_type": "markdown",
   "id": "a28430da",
   "metadata": {},
   "source": [
    "1. Using Logistic Regression"
   ]
  },
  {
   "cell_type": "code",
   "execution_count": 92,
   "id": "eb7908a9",
   "metadata": {},
   "outputs": [
    {
     "name": "stdout",
     "output_type": "stream",
     "text": [
      "The f1_score using Logistic model for Training Dataset with SMOTE is 32.437\n",
      "The f1_score using Logistic model for Testing Dataset with SMOTE is 30.631\n"
     ]
    }
   ],
   "source": [
    "# model : 1.logistic regression (without considering the imbalance)\n",
    "log = LogisticRegression(C=1.5)\n",
    "log.fit(x_train_final, y_train)\n",
    "\n",
    "# predict and evaluate\n",
    "y_pred_train_log = log.predict(x_train_final)\n",
    "y_pred_test_log = log.predict(x_test_final)\n",
    "\n",
    "# using f1_score as evaluation metric\n",
    "score_train_log = f1_score(y_train, y_pred_train_log)\n",
    "score_test_log = f1_score(y_test, y_pred_test_log)\n",
    "\n",
    "print(f\"The f1_score using Logistic model for Training Dataset with SMOTE is {score_train_log*100:.3f}\")\n",
    "print(f\"The f1_score using Logistic model for Testing Dataset with SMOTE is {score_test_log*100:.3f}\")\n"
   ]
  },
  {
   "cell_type": "code",
   "execution_count": 93,
   "id": "b48abb05",
   "metadata": {},
   "outputs": [
    {
     "name": "stdout",
     "output_type": "stream",
     "text": [
      "The f1_score using Logistic model for Training Dataset with SMOTE is 50.011\n",
      "The f1_score using Logistic model for Testing Dataset with SMOTE is 48.339\n"
     ]
    }
   ],
   "source": [
    "# model : 2.logistic regression (with class weights to solve imbalance)\n",
    "log_w = LogisticRegression(C=1.5, class_weight=dict_weights)\n",
    "log_w.fit(x_train_final, y_train)\n",
    "\n",
    "# predict and evaluate\n",
    "y_pred_train_log = log_w.predict(x_train_final)\n",
    "y_pred_test_log = log_w.predict(x_test_final)\n",
    "\n",
    "# using f1_score as evaluation metric\n",
    "score_train_log = f1_score(y_train, y_pred_train_log)\n",
    "score_test_log = f1_score(y_test, y_pred_test_log)\n",
    "\n",
    "print(f\"The f1_score using Logistic model for Training Dataset with SMOTE is {score_train_log*100:.3f}\")\n",
    "print(f\"The f1_score using Logistic model for Testing Dataset with SMOTE is {score_test_log*100:.3f}\")\n"
   ]
  },
  {
   "cell_type": "code",
   "execution_count": 94,
   "id": "4e8c0c82",
   "metadata": {},
   "outputs": [
    {
     "name": "stdout",
     "output_type": "stream",
     "text": [
      "The f1_score using Logistic model for Training Dataset with SMOTE is 49.537\n",
      "The f1_score using Logistic model for Testing Dataset with SMOTE is 49.064\n"
     ]
    }
   ],
   "source": [
    "# model : 3.logistic regression (with oversampling (SMOTE) to solve imbalance)\n",
    "log_s = LogisticRegression(C=1.5)\n",
    "log_s.fit(x_train_resampled, y_train_resampled)\n",
    "\n",
    "# predict and evaluate\n",
    "y_pred_train_log = log_s.predict(x_train_final)\n",
    "y_pred_test_log = log_s.predict(x_test_final)\n",
    "\n",
    "# using f1_score as evaluation metric\n",
    "score_train_log = f1_score(y_train, y_pred_train_log)\n",
    "score_test_log = f1_score(y_test, y_pred_test_log)\n",
    "\n",
    "print(f\"The f1_score using Logistic model for Training Dataset with SMOTE is {score_train_log*100:.3f}\")\n",
    "print(f\"The f1_score using Logistic model for Testing Dataset with SMOTE is {score_test_log*100:.3f}\")"
   ]
  },
  {
   "cell_type": "code",
   "execution_count": null,
   "id": "a9569c1e",
   "metadata": {},
   "outputs": [],
   "source": []
  }
 ],
 "metadata": {
  "kernelspec": {
   "display_name": "fatal",
   "language": "python",
   "name": "python3"
  },
  "language_info": {
   "codemirror_mode": {
    "name": "ipython",
    "version": 3
   },
   "file_extension": ".py",
   "mimetype": "text/x-python",
   "name": "python",
   "nbconvert_exporter": "python",
   "pygments_lexer": "ipython3",
   "version": "3.13.5"
  }
 },
 "nbformat": 4,
 "nbformat_minor": 5
}
